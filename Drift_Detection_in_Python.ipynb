{
  "nbformat": 4,
  "nbformat_minor": 0,
  "metadata": {
    "colab": {
      "provenance": []
    },
    "kernelspec": {
      "name": "python3",
      "display_name": "Python 3"
    },
    "language_info": {
      "name": "python"
    }
  },
  "cells": [
    {
      "cell_type": "markdown",
      "source": [
        "\"Drift\" is a term used in machine learning to describe how the performance of a machine learning model in production slowly gets worse over time. This can happen for a number of reasons, such as changes in the distribution of the input data over time or the relationship between the input (x) and the desired target (y) changing.\n",
        "\n",
        "Drift can be a big problem when we use machine learning in the real world, where data is often dynamic and always changing. This article will deep dive into why models drift, different types of drift, algorithms to detect them, and finally, wrap up this article with an open-source implementation of drift detection in Python.\n",
        "\n",
        "What is Drift?\n",
        "\n",
        "Machine learning models are trained with historical data, but once they are used in the real world, they may become outdated and lose their accuracy over time due to a phenomenon called drift. Drift is the change over time in the statistical properties of the data that was used to train a machine learning model. This can cause the model to become less accurate or perform differently than it was designed to.\n",
        "\n",
        "In other words, \"drift\" is the decline in a model's ability to make accurate predictions due to changes in the environment in which it is being used.\n",
        "\n",
        "Why do Machine Learning Models Drift?\n",
        "\n",
        "There are several reasons why machine learning models can drift over time.\n",
        "\n",
        "One common reason is simply that the data that the model was trained on becomes outdated or no longer represents the current conditions.\n",
        "\n",
        "For example, consider a machine learning model trained to predict the stock price of a company based on historical data. If we train the model with data from a stable market, it might do well at first. However, if the market becomes more volatile over time, the model might not be able to accurately predict the stock price anymore because the statistical properties of the data have changed.\n",
        "\n",
        "Another reason for model drift is that the model was not designed to handle changes in the data. Some machine learning models can handle changes in the data better than others, but no model can avoid drift completely.\n",
        "\n",
        "Types of Drift\n",
        "\n",
        "Let's explore the two different types of drift to consider:\n",
        "\n",
        "1. Concept Drift\n",
        "\n",
        "Concept drift, also known as model drift, occurs when the task that the model was designed to perform changes over time. For example, imagine that a machine learning model was trained to detect spam emails based on the content of the email. If the types of spam emails that people receive change significantly, the model may no longer be able to accurately detect spam.\n",
        "\n",
        "Concept Drift can be further divided into four categories (Learning under Concept Drift: A Review, Jie Lu et al.):\n",
        "\n",
        "Sudden Drift\n",
        "Gradual Drift\n",
        "Incremental Drift\n",
        "Recurring Concepts"
      ],
      "metadata": {
        "id": "VtWKqndnRw07"
      }
    },
    {
      "cell_type": "markdown",
      "source": [
        " Data Drift\n",
        "\n",
        "Data drift, also known as covariate shift, occurs when the distribution of the input data changes over time. For example, consider a machine learning model that was trained to predict the likelihood of a customer purchasing a product based on their age and income. If the distribution of ages and incomes of the customers changes significantly over time, the model may no longer be able to predict the likelihood of a purchase accurately.\n",
        "\n",
        "It is important to be aware of both concept drift and data drift and take steps to prevent or mitigate their effects. Some strategies for addressing drift include continuously monitoring and evaluating the performance of a model, updating the model with new data, and using machine learning models that are more robust to drift.\n",
        "\n",
        "You can learn more about post-deployment data science, such as drift, in our DataFramed podcast episode.\n",
        "\n",
        "How do You Detect Drift?\n",
        "\n",
        "There are two ways we can detect drift:\n",
        "\n",
        "1. Machine Learning Model-Based Approach: Model-based approach to detect whether the incoming input data has drifted or not.\n",
        "\n",
        "2. Statistical Tests: There are many statistical tests to detect data drift. They are primarily divided into three categories:\n",
        "\n",
        "Sequential analysis methods\n",
        "Acustom model to detect drift\n",
        "Time distribution method, which is very common.\n",
        "Time distribution-based methods use statistical methods to calculate the difference between two probability distributions to detect drift. These methods include the Population Stability Index, KL Divergence, JS Divergence, KS Test, and the Wasserstein Metric.\n",
        "\n",
        "Algorithms for Detecting Data Drift\n",
        "\n",
        "Kolmogorov-Smirnov (K-S) test\n",
        "\n",
        "The Kolmogorov-Smirnov (K-S) test is a nonparametric statistical test that is used to determine whether two sets of data come from the same distribution. It is often used to test whether a sample of data comes from a specific population or to compare two samples to determine if they come from the same population.\n",
        "\n",
        "The null hypothesis in this test is that the distributions are the same. If this hypothesis is rejected, it suggests that there is a drift in the model.\n",
        "\n",
        "The K-S test is a useful tool for comparing datasets and determining whether they come from the same distribution.\n",
        "\n",
        "Population Stability Index\n",
        "\n",
        "The Population Stability Index (PSI) is a statistical measure that is used to compare the distribution of a categorical variable in two different datasets.\n",
        "\n",
        "The Population Stability Index (PSI) is a tool used to measure how much the distribution of a variable has changed between two samples or over time. It is commonly used to monitor changes in the characteristics of a population and to identify potential problems with the performance of a machine learning model.\n",
        "\n",
        "The PSI was originally developed to monitor changes in the distribution of a score in risk scorecards, but it is now used to examine distributional shifts for all model-related attributes, including both dependent and independent variables.\n",
        "\n",
        "A high PSI value indicates that there is a significant difference between the distributions of the variable in the two datasets, which may suggest that there is a drift in the model.\n",
        "\n",
        "If the distribution of a variable has changed significantly, or if several variables have changed to some extent, it may be necessary to recalibrate or rebuild the model to improve its performance.\n",
        "\n",
        "Page-Hinkley method\n",
        "\n",
        "The Page-Hinkley method is a statistical method used to detect changes in the mean of a series of data over time. It is commonly used to monitor the performance of machine learning models and detect changes in the distribution of the data that may indicate model drift.\n",
        "\n",
        "To use the Page-Hinkley method, the first step is to define a threshold value and a decision function. The threshold value is a value above which a change in the mean is considered significant, and the decision function is a function that returns a value of 1 if a change has been detected and a value of 0 if no change has been detected.\n",
        "\n",
        "Next, the mean of the data series is calculated at each time step, and the decision function is applied to the data to determine if a change has occurred. If the decision function returns a value of 1, it indicates that a change has been detected and the model may be drifting.\n",
        "\n",
        "The Page-Hinkley method is a simple and effective way to detect changes in the mean of a data series over time. It is particularly useful for detecting small changes in the mean that may not be immediately apparent when looking at the data. However, it is important to carefully select the threshold value and decision function to ensure that the method is sensitive enough to detect changes in the data but not so sensitive that it generates false alarms.\n",
        "\n",
        "Drift Detection Implementation in Python\n",
        "\n",
        "In this section, we will use Evidently to detect drift. Evidently is an open-source Python library made for data scientists and engineers who work with machine learning. It helps them test, evaluate, and keep track of how well their models work from validation to production.\n",
        "\n"
      ],
      "metadata": {
        "id": "IvJvp8rdRxai"
      }
    },
    {
      "cell_type": "code",
      "source": [
        "```\n",
        "\n",
        "# import libraries\n",
        "\n",
        "import pandas as pd\n",
        "\n",
        "import numpy as np\n",
        "\n",
        "from sklearn import datasets\n",
        "\n",
        "\n",
        "from evidently.report import Report\n",
        "\n",
        "from evidently.metrics import DataDriftTable\n",
        "\n",
        "from evidently.metrics import DatasetDriftMetric\n",
        "\n",
        "```"
      ],
      "metadata": {
        "id": "ZHU147k4R3sn"
      },
      "execution_count": null,
      "outputs": []
    },
    {
      "cell_type": "code",
      "source": [
        "```\n",
        "\n",
        "# create ref and cur dataset for drift detection\n",
        "\n",
        "adult_data = datasets.fetch_openml(name='adult', version=2, as_frame='auto')\n",
        "\n",
        "adult = adult_data.frame\n",
        "\n",
        "\n",
        "\n",
        "\n",
        "adult_ref = adult[~adult.education.isin(['Some-college', 'HS-grad', 'Bachelors'])]\n",
        "\n",
        "adult_cur = adult[adult.education.isin(['Some-college', 'HS-grad', 'Bachelors'])]\n",
        "\n",
        "\n",
        "\n",
        "\n",
        "adult_cur.iloc[:2000, 3:5] = np.nan\n",
        "\n",
        "```"
      ],
      "metadata": {
        "id": "l1oeY2RmR7qH"
      },
      "execution_count": null,
      "outputs": []
    },
    {
      "cell_type": "code",
      "source": [
        "```\n",
        "\n",
        "#dataset-level metrics\n",
        "\n",
        "data_drift_dataset_report = Report(metrics=[\n",
        "\n",
        "    DatasetDriftMetric(),\n",
        "\n",
        "    DataDriftTable(),\n",
        "\n",
        "])\n",
        "\n",
        "data_drift_dataset_report.run(reference_data=adult_ref, current_data=adult_cur)\n",
        "\n",
        "data_drift_dataset_report\n",
        "\n",
        "```"
      ],
      "metadata": {
        "id": "aID9IXqaSAKv"
      },
      "execution_count": null,
      "outputs": []
    },
    {
      "cell_type": "code",
      "source": [
        "```\n",
        "\n",
        "#report in a JSON format\n",
        "\n",
        "data_drift_dataset_report.json()\n",
        "\n",
        "```"
      ],
      "metadata": {
        "id": "iZhOaVahSAMq"
      },
      "execution_count": null,
      "outputs": []
    }
  ]
}