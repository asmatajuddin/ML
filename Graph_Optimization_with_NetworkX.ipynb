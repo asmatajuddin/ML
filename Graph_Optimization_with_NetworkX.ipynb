{
  "nbformat": 4,
  "nbformat_minor": 0,
  "metadata": {
    "colab": {
      "provenance": []
    },
    "kernelspec": {
      "name": "python3",
      "display_name": "Python 3"
    },
    "language_info": {
      "name": "python"
    }
  },
  "cells": [
    {
      "cell_type": "markdown",
      "source": [
        "Graph Optimization with NetworkX"
      ],
      "metadata": {
        "id": "077Jy2AsSOMb"
      }
    },
    {
      "cell_type": "markdown",
      "source": [
        "Motivating Graph Optimization\n",
        "\n",
        "The Problem\n",
        "\n",
        "You've probably heard of the Travelling Salesman Problem which amounts to finding the shortest route (say, roads) that connects a set of nodes (say, cities). Although lesser known, the Chinese Postman Problem (CPP), also referred to as the Route Inspection or Arc Routing problem, is quite similar. The objective of the CPP is to find the shortest path that covers all the links (roads) on a graph at least once. If this is possible without doubling back on the same road twice, great; That's the ideal scenario and the problem is quite simple. However, if some roads must be traversed more than once, you need some math to find the shortest route that hits every road at least once with the lowest total mileage.\n",
        "\n",
        "Personal Motivation\n",
        "\n",
        "(The following is a personal note: cheesy, cheeky and 100% not necessary for learning graph optimization in Python)\n",
        "\n",
        "I had a real-life application for solving this problem: attaining the rank of Giantmaster Marathoner.\n",
        "\n",
        "What is a Giantmaster? A Giantmaster is one (canine or human) who has hiked every trail of Sleeping Giant State Park in Hamden CT (neighbor to my hometown of Wallingford)... in their lifetime. A Giantmaster Marathoner is one who has hiked all these trails in a single day.\n",
        "\n",
        "Thanks to the fastidious record keeping of the Sleeping Giant Park Association, the full roster of Giantmasters and their level of Giantmastering can be found here. I have to admit this motivated me quite a bit to kick-start this side-project and get out there to run the trails. While I myself achieved Giantmaster status in the winter of 2006 when I was a budding young volunteer of the Sleeping Giant Trail Crew (which I was pleased to see recorded in the SG archive), new challenges have since arisen. While the 12-month and 4-season Giantmaster categories are impressive and enticing, they'd also require more travel from my current home (DC) to my formative home (CT) than I could reasonably manage... and they're not as interesting for graph optimization, so Giantmaster Marathon it is!\n",
        "\n",
        "For another reference, the Sleeping Giant trail map is provided below:\n",
        "\n",
        "Introducing Graphs\n",
        "\n",
        "The nice thing about graphs is that the concepts and terminology are generally intuitive. Nonetheless, here's some of the basic lingo:\n",
        "\n",
        "Graphs are structures that map relations between objects. The objects are referred to as nodes and the connections between them as edges in this tutorial. Note that edges and nodes are commonly referred to by several names that generally mean exactly the same thing:"
      ],
      "metadata": {
        "id": "ao7M5w39SPGo"
      }
    },
    {
      "cell_type": "code",
      "source": [
        "node == vertex == point\n",
        "edge == arc == link\n"
      ],
      "metadata": {
        "id": "swI60gsdSWcz"
      },
      "execution_count": null,
      "outputs": []
    },
    {
      "cell_type": "code",
      "source": [
        "Eulerian tour == Eulerian circuit == Eulerian cycle\n"
      ],
      "metadata": {
        "id": "zZuGrUG2SZNS"
      },
      "execution_count": null,
      "outputs": []
    },
    {
      "cell_type": "markdown",
      "source": [
        "A matching is a subset of edges in which no node occurs more than once. A minimum weight matching finds the matching with the lowest possible summed edge weight.\n",
        "\n",
        "NetworkX: Graph Manipulation and Analysis\n",
        "\n",
        "NetworkX is the most popular Python package for manipulating and analyzing graphs. Several packages offer the same basic level of graph manipulation, notably igraph which also has bindings for R and C++. However, I found that NetworkX had the strongest graph algorithms that I needed to solve the CPP.\n",
        "\n",
        "Installing Packages\n",
        "\n",
        "If you've done any sort of data analysis in Python or have the Anaconda distribution, my guess is you probably have pandas and matplotlib. However, you might not have networkx. These should be the only dependencies outside the Python Standard Library that you'll need to run through this tutorial. They are easy to install with pip:"
      ],
      "metadata": {
        "id": "FvifgHWYSfRq"
      }
    },
    {
      "cell_type": "code",
      "source": [
        "pip install pandas\n",
        "pip install networkx\n",
        "pip install matplotlib\n"
      ],
      "metadata": {
        "id": "jkCad7u0SiRQ"
      },
      "execution_count": null,
      "outputs": []
    },
    {
      "cell_type": "code",
      "source": [
        "import itertools\n",
        "import copy\n",
        "import networkx as nx\n",
        "import pandas as pd\n",
        "import matplotlib.pyplot as plt"
      ],
      "metadata": {
        "id": "PCrglFi4Sjwi"
      },
      "execution_count": null,
      "outputs": []
    },
    {
      "cell_type": "code",
      "source": [
        "# Grab edge list data hosted on Gist\n",
        "edgelist = pd.read_csv('https://gist.githubusercontent.com/brooksandrew/e570c38bcc72a8d102422f2af836513b/raw/89c76b2563dbc0e88384719a35cba0dfc04cd522/edgelist_sleeping_giant.csv')\n"
      ],
      "metadata": {
        "id": "J1iiyx6mSlKv"
      },
      "execution_count": null,
      "outputs": []
    },
    {
      "cell_type": "code",
      "source": [
        "# Preview edgelist\n",
        "edgelist.head(10)\n"
      ],
      "metadata": {
        "id": "v0gqXNUFSm_d"
      },
      "execution_count": null,
      "outputs": []
    },
    {
      "cell_type": "code",
      "source": [
        "# Grab node list data hosted on Gist\n",
        "nodelist = pd.read_csv('https://gist.githubusercontent.com/brooksandrew/f989e10af17fb4c85b11409fea47895b/raw/a3a8da0fa5b094f1ca9d82e1642b384889ae16e8/nodelist_sleeping_giant.csv')\n"
      ],
      "metadata": {
        "id": "gknbrGYrSoRo"
      },
      "execution_count": null,
      "outputs": []
    },
    {
      "cell_type": "code",
      "source": [
        "# Preview nodelist\n",
        "nodelist.head(5)\n"
      ],
      "metadata": {
        "id": "FcCl_rlPSqEO"
      },
      "execution_count": null,
      "outputs": []
    },
    {
      "cell_type": "code",
      "source": [
        "# Create empty graph\n",
        "g = nx.Graph()\n"
      ],
      "metadata": {
        "id": "3sF6hzPRSrUg"
      },
      "execution_count": null,
      "outputs": []
    },
    {
      "cell_type": "code",
      "source": [
        "# Add edges and edge attributes\n",
        "for i, elrow in edgelist.iterrows():\n",
        "    g.add_edge(elrow[0], elrow[1], attr_dict=elrow[2:].to_dict())\n"
      ],
      "metadata": {
        "id": "UMt-pDQ6Ss1V"
      },
      "execution_count": null,
      "outputs": []
    },
    {
      "cell_type": "code",
      "source": [
        "# Edge list example\n",
        "print(elrow[0]) # node1\n",
        "print(elrow[1]) # node2\n",
        "print(elrow[2:].to_dict()) # edge attribute dict\n"
      ],
      "metadata": {
        "id": "vrkSs5qGSuFd"
      },
      "execution_count": null,
      "outputs": []
    },
    {
      "cell_type": "code",
      "source": [
        "# Add node attributes\n",
        "for i, nlrow in nodelist.iterrows():\n",
        "    g.node[nlrow['id']] = nlrow[1:].to_dict()\n"
      ],
      "metadata": {
        "id": "wGrg7Kb3SvkJ"
      },
      "execution_count": null,
      "outputs": []
    },
    {
      "cell_type": "code",
      "source": [
        "# Node list example\n",
        "print(nlrow)\n"
      ],
      "metadata": {
        "id": "qeGcZxOvSzi6"
      },
      "execution_count": null,
      "outputs": []
    },
    {
      "cell_type": "markdown",
      "source": [
        "EDGES"
      ],
      "metadata": {
        "id": "jM6FpvEYS6G2"
      }
    },
    {
      "cell_type": "code",
      "source": [
        "# Preview first 5 edges\n",
        "g.edges(data=True)[0:5]\n"
      ],
      "metadata": {
        "id": "Av6P7mo5S7y3"
      },
      "execution_count": null,
      "outputs": []
    },
    {
      "cell_type": "markdown",
      "source": [
        "NODES"
      ],
      "metadata": {
        "id": "Sq5GM2zbS_aS"
      }
    },
    {
      "cell_type": "code",
      "source": [
        "# Preview first 10 nodes\n",
        "g.nodes(data=True)[0:10]\n"
      ],
      "metadata": {
        "id": "TIHcR0pKTBIB"
      },
      "execution_count": null,
      "outputs": []
    },
    {
      "cell_type": "code",
      "source": [
        "print('# of edges: {}'.format(g.number_of_edges()))\n",
        "print('# of nodes: {}'.format(g.number_of_nodes()))\n"
      ],
      "metadata": {
        "id": "C6FvKoHtTCrW"
      },
      "execution_count": null,
      "outputs": []
    },
    {
      "cell_type": "code",
      "source": [
        "# Define node positions data structure (dict) for plotting\n",
        "node_positions = {node[0]: (node[1]['X'], -node[1]['Y']) for node in g.nodes(data=True)}\n",
        "\n",
        "# Preview of node_positions with a bit of hack (there is no head/slice method for dictionaries).\n",
        "dict(list(node_positions.items())[0:5])\n"
      ],
      "metadata": {
        "id": "adFBwt3ATIFM"
      },
      "execution_count": null,
      "outputs": []
    },
    {
      "cell_type": "code",
      "source": [
        "# Define data structure (list) of edge colors for plotting\n",
        "edge_colors = [e[2]['color'] for e in g.edges(data=True)]\n",
        "\n",
        "# Preview first 10\n",
        "edge_colors[0:10]\n"
      ],
      "metadata": {
        "id": "06g1kUhSTJgk"
      },
      "execution_count": null,
      "outputs": []
    },
    {
      "cell_type": "code",
      "source": [
        "plt.figure(figsize=(8, 6))\n",
        "nx.draw(g, pos=node_positions, edge_color=edge_colors, node_size=10, node_color='black')\n",
        "plt.title('Graph Representation of Sleeping Giant Trail Map', size=15)\n",
        "plt.show()\n"
      ],
      "metadata": {
        "id": "uWdQNOTHTLNG"
      },
      "execution_count": null,
      "outputs": []
    },
    {
      "cell_type": "code",
      "source": [
        "# Calculate list of nodes with odd degree\n",
        "nodes_odd_degree = [v for v, d in g.degree_iter() if d % 2 == 1]\n",
        "\n",
        "# Preview\n",
        "nodes_odd_degree[0:5]\n"
      ],
      "metadata": {
        "id": "G28DfXjaTMvz"
      },
      "execution_count": null,
      "outputs": []
    },
    {
      "cell_type": "code",
      "source": [
        "# Counts\n",
        "print('Number of nodes of odd degree: {}'.format(len(nodes_odd_degree)))\n",
        "print('Number of total nodes: {}'.format(len(g.nodes())))\n"
      ],
      "metadata": {
        "id": "PuFFQBxkTZQ2"
      },
      "execution_count": null,
      "outputs": []
    },
    {
      "cell_type": "code",
      "source": [
        "# Compute all pairs of odd nodes. in a list of tuples\n",
        "odd_node_pairs = list(itertools.combinations(nodes_odd_degree, 2))\n",
        "\n",
        "# Preview pairs of odd degree nodes\n",
        "odd_node_pairs[0:10]\n"
      ],
      "metadata": {
        "id": "0Zdi846ZTbqX"
      },
      "execution_count": null,
      "outputs": []
    },
    {
      "cell_type": "code",
      "source": [
        "# Counts\n",
        "print('Number of pairs: {}'.format(len(odd_node_pairs)))\n"
      ],
      "metadata": {
        "id": "86cTyiwOTcWd"
      },
      "execution_count": null,
      "outputs": []
    },
    {
      "cell_type": "code",
      "source": [
        "def get_shortest_paths_distances(graph, pairs, edge_weight_name):\n",
        "    \"\"\"Compute shortest distance between each pair of nodes in a graph.  Return a dictionary keyed on node pairs (tuples).\"\"\"\n",
        "    distances = {}\n",
        "    for pair in pairs:\n",
        "        distances[pair] = nx.dijkstra_path_length(graph, pair[0], pair[1], weight=edge_weight_name)\n",
        "    return distances\n"
      ],
      "metadata": {
        "id": "-XXyCQXVTeIf"
      },
      "execution_count": null,
      "outputs": []
    },
    {
      "cell_type": "code",
      "source": [
        "# Compute shortest paths.  Return a dictionary with node pairs keys and a single value equal to shortest path distance.\n",
        "odd_node_pairs_shortest_paths = get_shortest_paths_distances(g, odd_node_pairs, 'distance')\n",
        "\n",
        "# Preview with a bit of hack (there is no head/slice method for dictionaries).\n",
        "dict(list(odd_node_pairs_shortest_paths.items())[0:10])\n"
      ],
      "metadata": {
        "id": "igVwFLE4ThDx"
      },
      "execution_count": null,
      "outputs": []
    },
    {
      "cell_type": "code",
      "source": [
        "def create_complete_graph(pair_weights, flip_weights=True):\n",
        "    \"\"\"\n",
        "    Create a completely connected graph using a list of vertex pairs and the shortest path distances between them\n",
        "    Parameters:\n",
        "        pair_weights: list[tuple] from the output of get_shortest_paths_distances\n",
        "        flip_weights: Boolean. Should we negate the edge attribute in pair_weights?\n",
        "    \"\"\"\n",
        "    g = nx.Graph()\n",
        "    for k, v in pair_weights.items():\n",
        "        wt_i = - v if flip_weights else v\n",
        "        g.add_edge(k[0], k[1], attr_dict={'distance': v, 'weight': wt_i})\n",
        "    return g\n"
      ],
      "metadata": {
        "id": "e57dFQTzTjHX"
      },
      "execution_count": null,
      "outputs": []
    },
    {
      "cell_type": "code",
      "source": [
        "# Generate the complete graph\n",
        "g_odd_complete = create_complete_graph(odd_node_pairs_shortest_paths, flip_weights=True)\n",
        "\n",
        "# Counts\n",
        "print('Number of nodes: {}'.format(len(g_odd_complete.nodes())))\n",
        "print('Number of edges: {}'.format(len(g_odd_complete.edges())))\n"
      ],
      "metadata": {
        "id": "IWk-R3-9TknW"
      },
      "execution_count": null,
      "outputs": []
    },
    {
      "cell_type": "code",
      "source": [
        "# Plot the complete graph of odd-degree nodes\n",
        "plt.figure(figsize=(8, 6))\n",
        "pos_random = nx.random_layout(g_odd_complete)\n",
        "nx.draw_networkx_nodes(g_odd_complete, node_positions, node_size=20, node_color=\"red\")\n",
        "nx.draw_networkx_edges(g_odd_complete, node_positions, alpha=0.1)\n",
        "plt.axis('off')\n",
        "plt.title('Complete Graph of Odd-degree Nodes')\n",
        "plt.show()\n"
      ],
      "metadata": {
        "id": "xmLusHo-Tl7v"
      },
      "execution_count": null,
      "outputs": []
    },
    {
      "cell_type": "code",
      "source": [
        "# Compute min weight matching.\n",
        "# Note: max_weight_matching uses the 'weight' attribute by default as the attribute to maximize.\n",
        "odd_matching_dupes = nx.algorithms.max_weight_matching(g_odd_complete, True)\n",
        "\n",
        "print('Number of edges in matching: {}'.format(len(odd_matching_dupes)))\n"
      ],
      "metadata": {
        "id": "ac1OnLtOTna2"
      },
      "execution_count": null,
      "outputs": []
    },
    {
      "cell_type": "code",
      "source": [
        "# Preview of matching with dupes\n",
        "odd_matching_dupes\n"
      ],
      "metadata": {
        "id": "nnbCPpMcTo_U"
      },
      "execution_count": null,
      "outputs": []
    },
    {
      "cell_type": "code",
      "source": [
        "# Convert matching to list of deduped tuples\n",
        "odd_matching = list(pd.unique([tuple(sorted([k, v])) for k, v in odd_matching_dupes.items()]))\n",
        "\n",
        "# Counts\n",
        "print('Number of edges in matching (deduped): {}'.format(len(odd_matching)))\n"
      ],
      "metadata": {
        "id": "0xJ2F9O0Tq48"
      },
      "execution_count": null,
      "outputs": []
    },
    {
      "cell_type": "code",
      "source": [
        "# Preview of deduped matching\n",
        "odd_matching\n"
      ],
      "metadata": {
        "id": "khXfUMrFTsdL"
      },
      "execution_count": null,
      "outputs": []
    },
    {
      "cell_type": "code",
      "source": [
        "plt.figure(figsize=(8, 6))\n",
        "\n",
        "# Plot the complete graph of odd-degree nodes\n",
        "nx.draw(g_odd_complete, pos=node_positions, node_size=20, alpha=0.05)\n",
        "\n",
        "# Create a new graph to overlay on g_odd_complete with just the edges from the min weight matching\n",
        "g_odd_complete_min_edges = nx.Graph(odd_matching)\n",
        "nx.draw(g_odd_complete_min_edges, pos=node_positions, node_size=20, edge_color='blue', node_color='red')\n",
        "\n",
        "plt.title('Min Weight Matching on Complete Graph')\n",
        "plt.show()\n"
      ],
      "metadata": {
        "id": "ozgJDnhuTuvt"
      },
      "execution_count": null,
      "outputs": []
    },
    {
      "cell_type": "code",
      "source": [
        "plt.figure(figsize=(8, 6))\n",
        "\n",
        "# Plot the original trail map graph\n",
        "nx.draw(g, pos=node_positions, node_size=20, alpha=0.1, node_color='black')\n",
        "\n",
        "# Plot graph to overlay with just the edges from the min weight matching\n",
        "nx.draw(g_odd_complete_min_edges, pos=node_positions, node_size=20, alpha=1, node_color='red', edge_color='blue')\n",
        "\n",
        "plt.title('Min Weight Matching on Orginal Graph')\n",
        "plt.show()\n"
      ],
      "metadata": {
        "id": "9BpYwWEWTv9T"
      },
      "execution_count": null,
      "outputs": []
    },
    {
      "cell_type": "code",
      "source": [
        "def add_augmenting_path_to_graph(graph, min_weight_pairs):\n",
        "    \"\"\"\n",
        "    Add the min weight matching edges to the original graph\n",
        "    Parameters:\n",
        "        graph: NetworkX graph (original graph from trailmap)\n",
        "        min_weight_pairs: list[tuples] of node pairs from min weight matching\n",
        "    Returns:\n",
        "        augmented NetworkX graph\n",
        "    \"\"\"\n",
        "\n",
        "    # We need to make the augmented graph a MultiGraph so we can add parallel edges\n",
        "    graph_aug = nx.MultiGraph(graph.copy())\n",
        "    for pair in min_weight_pairs:\n",
        "        graph_aug.add_edge(pair[0],\n",
        "                           pair[1],\n",
        "                           attr_dict={'distance': nx.dijkstra_path_length(graph, pair[0], pair[1]),\n",
        "                                      'trail': 'augmented'}\n",
        "                          )\n",
        "    return graph_aug\n"
      ],
      "metadata": {
        "id": "dZXbB8yPTxKx"
      },
      "execution_count": null,
      "outputs": []
    },
    {
      "cell_type": "code",
      "source": [
        "# Create augmented graph: add the min weight matching edges to g\n",
        "g_aug = add_augmenting_path_to_graph(g, odd_matching)\n",
        "\n",
        "# Counts\n",
        "print('Number of edges in original graph: {}'.format(len(g.edges())))\n",
        "print('Number of edges in augmented graph: {}'.format(len(g_aug.edges())))\n"
      ],
      "metadata": {
        "id": "ryM-B8KfTyqD"
      },
      "execution_count": null,
      "outputs": []
    },
    {
      "cell_type": "code",
      "source": [
        "pd.value_counts(g_aug.degree())\n"
      ],
      "metadata": {
        "id": "g7jgJj72T0LM"
      },
      "execution_count": null,
      "outputs": []
    },
    {
      "cell_type": "code",
      "source": [
        "naive_euler_circuit = list(nx.eulerian_circuit(g_aug, source='b_end_east'))\n"
      ],
      "metadata": {
        "id": "ZF4VDZlMT4Ff"
      },
      "execution_count": null,
      "outputs": []
    },
    {
      "cell_type": "code",
      "source": [
        "print('Length of eulerian circuit: {}'.format(len(naive_euler_circuit)))\n"
      ],
      "metadata": {
        "id": "u09jWbaNT7iy"
      },
      "execution_count": null,
      "outputs": []
    },
    {
      "cell_type": "code",
      "source": [
        "# Preview naive Euler circuit\n",
        "naive_euler_circuit[0:10]\n"
      ],
      "metadata": {
        "id": "DaPr-aAqT9HZ"
      },
      "execution_count": null,
      "outputs": []
    },
    {
      "cell_type": "code",
      "source": [
        "def create_eulerian_circuit(graph_augmented, graph_original, starting_node=None):\n",
        "    \"\"\"Create the eulerian path using only edges from the original graph.\"\"\"\n",
        "    euler_circuit = []\n",
        "    naive_circuit = list(nx.eulerian_circuit(graph_augmented, source=starting_node))\n",
        "\n",
        "    for edge in naive_circuit:\n",
        "        edge_data = graph_augmented.get_edge_data(edge[0], edge[1])\n",
        "\n",
        "        if edge_data[0]['trail'] != 'augmented':\n",
        "            # If `edge` exists in original graph, grab the edge attributes and add to eulerian circuit.\n",
        "            edge_att = graph_original[edge[0]][edge[1]]\n",
        "            euler_circuit.append((edge[0], edge[1], edge_att))\n",
        "        else:\n",
        "            aug_path = nx.shortest_path(graph_original, edge[0], edge[1], weight='distance')\n",
        "            aug_path_pairs = list(zip(aug_path[:-1], aug_path[1:]))\n",
        "\n",
        "            print('Filling in edges for augmented edge: {}'.format(edge))\n",
        "            print('Augmenting path: {}'.format(' => '.join(aug_path)))\n",
        "            print('Augmenting path pairs: {}\\n'.format(aug_path_pairs))\n",
        "\n",
        "            # If `edge` does not exist in original graph, find the shortest path between its nodes and\n",
        "            #  add the edge attributes for each link in the shortest path.\n",
        "            for edge_aug in aug_path_pairs:\n",
        "                edge_aug_att = graph_original[edge_aug[0]][edge_aug[1]]\n",
        "                euler_circuit.append((edge_aug[0], edge_aug[1], edge_aug_att))\n",
        "\n",
        "    return euler_circuit\n"
      ],
      "metadata": {
        "id": "MxtDPajiT-3V"
      },
      "execution_count": null,
      "outputs": []
    },
    {
      "cell_type": "code",
      "source": [
        "# Create the Eulerian circuit\n",
        "euler_circuit = create_eulerian_circuit(g_aug, g, 'b_end_east')\n"
      ],
      "metadata": {
        "id": "42S675i0UA-t"
      },
      "execution_count": null,
      "outputs": []
    },
    {
      "cell_type": "code",
      "source": [
        "print('Length of Eulerian circuit: {}'.format(len(euler_circuit)))\n"
      ],
      "metadata": {
        "id": "45gkGS7mUK1f"
      },
      "execution_count": null,
      "outputs": []
    },
    {
      "cell_type": "code",
      "source": [
        "# Preview first 20 directions of CPP solution\n",
        "for i, edge in enumerate(euler_circuit[0:20]):\n",
        "    print(i, edge)\n"
      ],
      "metadata": {
        "id": "c7HnsF7AUK3S"
      },
      "execution_count": null,
      "outputs": []
    },
    {
      "cell_type": "code",
      "source": [
        "# Computing some stats\n",
        "total_mileage_of_circuit = sum([edge[2]['distance'] for edge in euler_circuit])\n",
        "total_mileage_on_orig_trail_map = sum(nx.get_edge_attributes(g, 'distance').values())\n",
        "_vcn = pd.value_counts(pd.value_counts([(e[0]) for e in euler_circuit]), sort=False)\n",
        "node_visits = pd.DataFrame({'n_visits': _vcn.index, 'n_nodes': _vcn.values})\n",
        "_vce = pd.value_counts(pd.value_counts([sorted(e)[0] + sorted(e)[1] for e in nx.MultiDiGraph(euler_circuit).edges()]))\n",
        "edge_visits = pd.DataFrame({'n_visits': _vce.index, 'n_edges': _vce.values})\n",
        "\n",
        "# Printing stats\n",
        "print('Mileage of circuit: {0:.2f}'.format(total_mileage_of_circuit))\n",
        "print('Mileage on original trail map: {0:.2f}'.format(total_mileage_on_orig_trail_map))\n",
        "print('Mileage retracing edges: {0:.2f}'.format(total_mileage_of_circuit-total_mileage_on_orig_trail_map))\n",
        "print('Percent of mileage retraced: {0:.2f}%\\n'.format((1-total_mileage_of_circuit/total_mileage_on_orig_trail_map)*-100))\n",
        "\n",
        "print('Number of edges in circuit: {}'.format(len(euler_circuit)))\n",
        "print('Number of edges in original graph: {}'.format(len(g.edges())))\n",
        "print('Number of nodes in original graph: {}\\n'.format(len(g.nodes())))\n",
        "\n",
        "print('Number of edges traversed more than once: {}\\n'.format(len(euler_circuit)-len(g.edges())))\n",
        "\n",
        "print('Number of times visiting each node:')\n",
        "print(node_visits.to_string(index=False))\n",
        "\n",
        "print('\\nNumber of times visiting each edge:')\n",
        "print(edge_visits.to_string(index=False))\n"
      ],
      "metadata": {
        "id": "Eg9xVqNkUN-R"
      },
      "execution_count": null,
      "outputs": []
    },
    {
      "cell_type": "code",
      "source": [
        "def create_cpp_edgelist(euler_circuit):\n",
        "    \"\"\"\n",
        "    Create the edgelist without parallel edge for the visualization\n",
        "    Combine duplicate edges and keep track of their sequence and # of walks\n",
        "    Parameters:\n",
        "        euler_circuit: list[tuple] from create_eulerian_circuit\n",
        "    \"\"\"\n",
        "    cpp_edgelist = {}\n",
        "\n",
        "    for i, e in enumerate(euler_circuit):\n",
        "        edge = frozenset([e[0], e[1]])\n",
        "\n",
        "        if edge in cpp_edgelist:\n",
        "            cpp_edgelist[edge][2]['sequence'] += ', ' + str(i)\n",
        "            cpp_edgelist[edge][2]['visits'] += 1\n",
        "\n",
        "        else:\n",
        "            cpp_edgelist[edge] = e\n",
        "            cpp_edgelist[edge][2]['sequence'] = str(i)\n",
        "            cpp_edgelist[edge][2]['visits'] = 1\n",
        "\n",
        "    return list(cpp_edgelist.values())\n"
      ],
      "metadata": {
        "id": "5u9APrG2UQRY"
      },
      "execution_count": null,
      "outputs": []
    },
    {
      "cell_type": "code",
      "source": [
        "cpp_edgelist = create_cpp_edgelist(euler_circuit)\n"
      ],
      "metadata": {
        "id": "x-zsx90iUTbO"
      },
      "execution_count": null,
      "outputs": []
    },
    {
      "cell_type": "code",
      "source": [
        "print('Number of edges in CPP edge list: {}'.format(len(cpp_edgelist)))\n"
      ],
      "metadata": {
        "id": "ymmQn5l-UVAf"
      },
      "execution_count": null,
      "outputs": []
    },
    {
      "cell_type": "code",
      "source": [
        "# Preview CPP plot-friendly edge list\n",
        "cpp_edgelist[0:3]\n"
      ],
      "metadata": {
        "id": "sBU6v9vjUWFg"
      },
      "execution_count": null,
      "outputs": []
    },
    {
      "cell_type": "code",
      "source": [
        "# Create CPP solution graph\n",
        "g_cpp = nx.Graph(cpp_edgelist)\n"
      ],
      "metadata": {
        "id": "WbuJiC8ZUXmx"
      },
      "execution_count": null,
      "outputs": []
    },
    {
      "cell_type": "code",
      "source": [
        "plt.figure(figsize=(14, 10))\n",
        "\n",
        "visit_colors = {1:'lightgray', 2:'blue'}\n",
        "edge_colors = [visit_colors[e[2]['visits']] for e in g_cpp.edges(data=True)]\n",
        "node_colors = ['red'  if node in nodes_odd_degree else 'lightgray' for node in g_cpp.nodes()]\n",
        "\n",
        "nx.draw_networkx(g_cpp, pos=node_positions, node_size=20, node_color=node_colors, edge_color=edge_colors, with_labels=False)\n",
        "plt.axis('off')\n",
        "plt.show()\n"
      ],
      "metadata": {
        "id": "AocKjHbTUaMj"
      },
      "execution_count": null,
      "outputs": []
    },
    {
      "cell_type": "code",
      "source": [
        "plt.figure(figsize=(14, 10))\n",
        "\n",
        "edge_colors = [e[2]['color'] for e in g_cpp.edges(data=True)]\n",
        "nx.draw_networkx(g_cpp, pos=node_positions, node_size=10, node_color='black', edge_color=edge_colors, with_labels=False, alpha=0.5)\n",
        "\n",
        "bbox = {'ec':[1,1,1,0], 'fc':[1,1,1,0]}  # hack to label edges over line (rather than breaking up line)\n",
        "edge_labels = nx.get_edge_attributes(g_cpp, 'sequence')\n",
        "nx.draw_networkx_edge_labels(g_cpp, pos=node_positions, edge_labels=edge_labels, bbox=bbox, font_size=6)\n",
        "\n",
        "plt.axis('off')\n",
        "plt.show()\n"
      ],
      "metadata": {
        "id": "NDd4GqFkUbph"
      },
      "execution_count": null,
      "outputs": []
    },
    {
      "cell_type": "markdown",
      "source": [
        "First a PNG image is produced for each direction (edge walked) from the CPP solution."
      ],
      "metadata": {
        "id": "czBpdkqZUkcI"
      }
    },
    {
      "cell_type": "code",
      "source": [
        "visit_colors = {1:'black', 2:'red'}\n",
        "edge_cnter = {}\n",
        "g_i_edge_colors = []\n",
        "for i, e in enumerate(euler_circuit, start=1):\n",
        "\n",
        "    edge = frozenset([e[0], e[1]])\n",
        "    if edge in edge_cnter:\n",
        "        edge_cnter[edge] += 1\n",
        "    else:\n",
        "        edge_cnter[edge] = 1\n",
        "\n",
        "    # Full graph (faded in background)\n",
        "    nx.draw_networkx(g_cpp, pos=node_positions, node_size=6, node_color='gray', with_labels=False, alpha=0.07)\n",
        "\n",
        "    # Edges walked as of iteration i\n",
        "    euler_circuit_i = copy.deepcopy(euler_circuit[0:i])\n",
        "    for i in range(len(euler_circuit_i)):\n",
        "        edge_i = frozenset([euler_circuit_i[i][0], euler_circuit_i[i][1]])\n",
        "        euler_circuit_i[i][2]['visits_i'] = edge_cnter[edge_i]\n",
        "    g_i = nx.Graph(euler_circuit_i)\n",
        "    g_i_edge_colors = [visit_colors[e[2]['visits_i']] for e in g_i.edges(data=True)]\n",
        "\n",
        "    nx.draw_networkx_nodes(g_i, pos=node_positions, node_size=6, alpha=0.6, node_color='lightgray', with_labels=False, linewidths=0.1)\n",
        "    nx.draw_networkx_edges(g_i, pos=node_positions, edge_color=g_i_edge_colors, alpha=0.8)\n",
        "\n",
        "    plt.axis('off')\n",
        "    plt.savefig('fig/png/img{}.png'.format(i), dpi=120, bbox_inches='tight')\n",
        "    plt.close()\n"
      ],
      "metadata": {
        "id": "QGx-z9QnUm5D"
      },
      "execution_count": null,
      "outputs": []
    },
    {
      "cell_type": "code",
      "source": [
        "import glob\n",
        "import numpy as np\n",
        "import imageio\n",
        "import os\n",
        "\n",
        "def make_circuit_video(image_path, movie_filename, fps=5):\n",
        "    # sorting filenames in order\n",
        "    filenames = glob.glob(image_path + 'img*.png')\n",
        "    filenames_sort_indices = np.argsort([int(os.path.basename(filename).split('.')[0][3:]) for filename in filenames])\n",
        "    filenames = [filenames[i] for i in filenames_sort_indices]\n",
        "\n",
        "    # make movie\n",
        "    with imageio.get_writer(movie_filename, mode='I', fps=fps) as writer:\n",
        "        for filename in filenames:\n",
        "            image = imageio.imread(filename)\n",
        "            writer.append_data(image)\n",
        "\n",
        "make_circuit_video('fig/png/', 'fig/gif/cpp_route_animation.gif', fps=3)"
      ],
      "metadata": {
        "id": "0dX3GLxdUoPy"
      },
      "execution_count": null,
      "outputs": []
    }
  ]
}