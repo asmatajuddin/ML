{
  "nbformat": 4,
  "nbformat_minor": 0,
  "metadata": {
    "colab": {
      "provenance": []
    },
    "kernelspec": {
      "name": "python3",
      "display_name": "Python 3"
    },
    "language_info": {
      "name": "python"
    }
  },
  "cells": [
    {
      "cell_type": "markdown",
      "source": [
        "Social Network Analysis"
      ],
      "metadata": {
        "id": "5RbrB1qwWCw4"
      }
    },
    {
      "cell_type": "markdown",
      "source": [
        "Creating a network using NetworkX\n",
        "\n",
        "There are many types of networks. We will use NetworkX to develop and analyze these different networks. To start, you will need to install networkX: You can use either:"
      ],
      "metadata": {
        "id": "Zy5-wVAgWDZV"
      }
    },
    {
      "cell_type": "code",
      "source": [
        "pip install networkx\n"
      ],
      "metadata": {
        "id": "UoeBBbwXWJUp"
      },
      "execution_count": null,
      "outputs": []
    },
    {
      "cell_type": "code",
      "source": [
        "conda install -c anaconda networkx\n"
      ],
      "metadata": {
        "id": "NuhGve_yWKjL"
      },
      "execution_count": null,
      "outputs": []
    },
    {
      "cell_type": "markdown",
      "source": [
        "Symmetric Networks\n",
        "\n",
        "The first network of actors that we created above is a symmetric network because the relationship \"working together in a movie\" is a symmetric relationship. If A is related to B, B is also related to A. Let us create the network we saw above in NetworkX.\n",
        "\n",
        "We will be using the Graph() method to create a new network and add_edge() to add an edge between two nodes."
      ],
      "metadata": {
        "id": "_uizDZVNWO7v"
      }
    },
    {
      "cell_type": "code",
      "source": [
        "import networkx as nx\n",
        "G_symmetric = nx.Graph()\n",
        "G_symmetric.add_edge('Amitabh Bachchan','Abhishek Bachchan')\n",
        "G_symmetric.add_edge('Amitabh Bachchan','Aamir Khan')\n",
        "G_symmetric.add_edge('Amitabh Bachchan','Akshay Kumar')\n",
        "G_symmetric.add_edge('Amitabh Bachchan','Dev Anand')\n",
        "G_symmetric.add_edge('Abhishek Bachchan','Aamir Khan')\n",
        "G_symmetric.add_edge('Abhishek Bachchan','Akshay Kumar')\n",
        "G_symmetric.add_edge('Abhishek Bachchan','Dev Anand')\n",
        "G_symmetric.add_edge('Dev Anand','Aamir Khan')"
      ],
      "metadata": {
        "id": "tW-JGRlfWR_F"
      },
      "execution_count": null,
      "outputs": []
    },
    {
      "cell_type": "markdown",
      "source": [
        "Asymmetric Networks\n",
        "\n",
        "What if the relationship between nodes is 'child of', then the relationship is no longer symmetric. If A is the child of B, then B is not a child of A. Such a network where the relationship is asymmetric (A is related to B, does not necessarily means that B is associated with A) is called an Asymmetric network. We can build the asymmetric network in NetworkX using DiGraph method, which is short of Directional Graph. Let us make an asymmetric graph."
      ],
      "metadata": {
        "id": "LDtuO6tHWdYO"
      }
    },
    {
      "cell_type": "code",
      "source": [
        "G_asymmetric = nx.DiGraph()\n",
        "G_asymmetric.add_edge('A','B')\n",
        "G_asymmetric.add_edge('A','D')\n",
        "G_asymmetric.add_edge('C','A')\n",
        "G_asymmetric.add_edge('D','E')"
      ],
      "metadata": {
        "id": "6iOghNavWeFF"
      },
      "execution_count": null,
      "outputs": []
    },
    {
      "cell_type": "code",
      "source": [
        "nx.spring_layout(G_asymmetric)\n",
        "nx.draw_networkx(G_asymmetric)"
      ],
      "metadata": {
        "id": "Bks7yW1iWfqB"
      },
      "execution_count": null,
      "outputs": []
    },
    {
      "cell_type": "markdown",
      "source": [
        "Weighted Networks\n",
        "\n",
        "Till now we had networks without weights, but it is possible that networks are made with weights, for example, if in our initial network we consider the number of movies done together as a weight, we will get a Weighted Network. Let us make one again of the actors, but this time we add weight to the network, each edge has a weight signifying the number of movies they have done together."
      ],
      "metadata": {
        "id": "x8KeSYKQWhcf"
      }
    },
    {
      "cell_type": "code",
      "source": [
        "G_weighted = nx.Graph()\n",
        "G_weighted.add_edge('Amitabh Bachchan','Abhishek Bachchan', weight=25)\n",
        "G_weighted.add_edge('Amitabh Bachchan','Aaamir Khan', weight=8)\n",
        "G_weighted.add_edge('Amitabh Bachchan','Akshay Kumar', weight=11)\n",
        "G_weighted.add_edge('Amitabh Bachchan','Dev Anand', weight=1)\n",
        "G_weighted.add_edge('Abhishek Bachchan','Aaamir Khan', weight=4)\n",
        "G_weighted.add_edge('Abhishek Bachchan','Akshay Kumar',weight=7)\n",
        "G_weighted.add_edge('Abhishek Bachchan','Dev Anand', weight=1)\n",
        "G_weighted.add_edge('Dev Anand','Aaamir Khan',weight=1)"
      ],
      "metadata": {
        "id": "fr8dn88zWkgV"
      },
      "execution_count": null,
      "outputs": []
    },
    {
      "cell_type": "markdown",
      "source": [
        "Multigraph\n",
        "\n",
        "We can give different attributes to the edges. For example, we can define a relation of neighbor between two nodes 'A' and 'B' using relation attribute. If within a network two nodes are connected with two different edges (relations) we have a multigraph. We can make a multigraph utilizing the MultiGraph class."
      ],
      "metadata": {
        "id": "9LO4cqHhWmR_"
      }
    },
    {
      "cell_type": "code",
      "source": [
        "G = nx.MultiGraph()\n",
        "G.add_edge('A','B',relation ='neighbor')\n",
        "G.add_edge('A','B',relation='friend)\n",
        "G.add_edge('B','C', relation='neighbor')\n",
        "G.add_edge('D','C',relation='friend')"
      ],
      "metadata": {
        "id": "guBgdcvuWpX9"
      },
      "execution_count": null,
      "outputs": []
    },
    {
      "cell_type": "code",
      "source": [
        "MultiEdgeDataView([('A', 'B', {'relation': 'neighbor'}), ('A', 'B', {'relation': 'friend'}), ('B', 'C', {'relation': 'neighbor'}), ('B', 'D', {'relation': 'neighbor'}), ('C', 'D', {'relation': 'friend'})])\n"
      ],
      "metadata": {
        "id": "v-2WdRMIWqlK"
      },
      "execution_count": null,
      "outputs": []
    },
    {
      "cell_type": "markdown",
      "source": [
        "Network Connectivity\n",
        "\n",
        "Now the network is made, can we know more about a particular node in the network? Well yes, let us explore some of them.\n",
        "\n",
        "Degree\n",
        "\n",
        "Degree of a node defines the number of connections a node has. NetworkX has the function degree which we can use to determine the degree of a node in the network."
      ],
      "metadata": {
        "id": "lyT58w15Wstt"
      }
    },
    {
      "cell_type": "code",
      "source": [
        "nx.degree(G_symmetric, 'Dev Anand`)\n"
      ],
      "metadata": {
        "id": "J4Kyf04XWwG8"
      },
      "execution_count": null,
      "outputs": []
    },
    {
      "cell_type": "markdown",
      "source": [
        "Clustering Coefficient\n",
        "\n",
        "It is observed that people who share connections in a social network tend to form associations. In other words, there is a tendency in a social network to form clusters. We can determine the clusters of a node, Local Clustering Coefficient, which is the fraction of pairs of the node's friends (that is connections) that are connected with each other. To determine the local clustering coefficient, we make use of nx.clustering(Graph, Node) function.\n",
        "\n",
        "In the symmetric Actor-network, you will find that Dev Anand has a local clustering coefficient of 1 and Abhishek Bachchan has a local clustering coefficient of 0.67.\n",
        "\n",
        "The average clustering coefficient (sum of all the local clustering coefficients divided by the number of nodes) for the symmetric Actor-network is 0.867. We can obtain it using:"
      ],
      "metadata": {
        "id": "ZVsiS2WcWyzl"
      }
    },
    {
      "cell_type": "code",
      "source": [
        "nx.average_clustering(G_symmetric)\n"
      ],
      "metadata": {
        "id": "OIpCJV1tW1RV"
      },
      "execution_count": null,
      "outputs": []
    },
    {
      "cell_type": "markdown",
      "source": [
        "Distance\n",
        "\n",
        "We can also determine the shortest path between two nodes and its length in NetworkX using nx.shortest_path(Graph, Node1, Node2) and nx.shortest_path_length(Graph, Node1, Node2) functions respectively.\n",
        "\n",
        "Executing"
      ],
      "metadata": {
        "id": "RJeNFjKsW2hR"
      }
    },
    {
      "cell_type": "code",
      "source": [
        "nx.shortest_path(G_symmetric, 'Dev Anand', 'Akshay Kumar')\n"
      ],
      "metadata": {
        "id": "W44egJqjW4Sc"
      },
      "execution_count": null,
      "outputs": []
    },
    {
      "cell_type": "code",
      "source": [
        "G_fb = nx.read_edgelist(\"facebook_combined.txt\", create_using = nx.Graph(), nodetype=int)\n"
      ],
      "metadata": {
        "id": "ZoN0g3MsX3XH"
      },
      "execution_count": null,
      "outputs": []
    },
    {
      "cell_type": "code",
      "source": [
        "pos = nx.spring_layout(G_fb)\n",
        "betCent = nx.betweenness_centrality(G_fb, normalized=True, endpoints=True)\n",
        "node_color = [20000.0 * G_fb.degree(v) for v in G_fb]\n",
        "node_size =  [v * 10000 for v in betCent.values()]\n",
        "plt.figure(figsize=(20,20))\n",
        "nx.draw_networkx(G_fb, pos=pos, with_labels=False,\n",
        "                 node_color=node_color,\n",
        "                 node_size=node_size )\n",
        "plt.axis('off')\n"
      ],
      "metadata": {
        "id": "u3qF7HuGX640"
      },
      "execution_count": null,
      "outputs": []
    },
    {
      "cell_type": "code",
      "source": [
        "pos = nx.spring_layout(G_fb)\n",
        "betCent = nx.betweenness_centrality(G_fb, normalized=True, endpoints=True)\n",
        "node_color = [20000.0 * G_fb.degree(v) for v in G_fb]\n",
        "node_size =  [v * 10000 for v in betCent.values()]\n",
        "plt.figure(figsize=(20,20))\n",
        "nx.draw_networkx(G_fb, pos=pos, with_labels=False,\n",
        "                 node_color=node_color,\n",
        "                 node_size=node_size )\n",
        "plt.axis('off')\n"
      ],
      "metadata": {
        "id": "SYQ1sG23X9Ha"
      },
      "execution_count": null,
      "outputs": []
    },
    {
      "cell_type": "code",
      "source": [
        "sorted(betCent, key=betCent.get, reverse=True)[:5]\n"
      ],
      "metadata": {
        "id": "p-7swER-X-Sa"
      },
      "execution_count": null,
      "outputs": []
    }
  ]
}