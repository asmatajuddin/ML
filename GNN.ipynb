{
  "nbformat": 4,
  "nbformat_minor": 0,
  "metadata": {
    "colab": {
      "provenance": []
    },
    "kernelspec": {
      "name": "python3",
      "display_name": "Python 3"
    },
    "language_info": {
      "name": "python"
    }
  },
  "cells": [
    {
      "cell_type": "markdown",
      "source": [
        " Graph Neural Networks (GNNs)"
      ],
      "metadata": {
        "id": "Y24dmGdM6iXQ"
      }
    },
    {
      "cell_type": "markdown",
      "source": [
        "Graphs with NetworkX"
      ],
      "metadata": {
        "id": "qVe-5tyL6qbc"
      }
    },
    {
      "cell_type": "code",
      "source": [
        "import networkx as nx\n",
        "H = nx.DiGraph()\n",
        "\n",
        "#adding nodes\n",
        "H.add_nodes_from([\n",
        "  (0, {\"color\": \"blue\", \"size\": 250}),\n",
        "\n",
        "  (1, {\"color\": \"yellow\", \"size\": 400}),\n",
        "\n",
        "  (2, {\"color\": \"orange\", \"size\": 150}),\n",
        "\n",
        "  (3, {\"color\": \"red\", \"size\": 600})\n",
        "\n",
        "\n",
        "])\n",
        "\n",
        "#adding edges\n",
        "H.add_edges_from([\n",
        "  (0, 1),\n",
        "\n",
        "  (1, 2),\n",
        "\n",
        "  (1, 0),\n",
        "\n",
        "  (1, 3),\n",
        "\n",
        "  (2, 3),\n",
        "\n",
        "  (3,0)\n",
        "\n",
        "\n",
        "])\n",
        "\n",
        "node_colors = nx.get_node_attributes(H, \"color\").values()\n",
        "colors = list(node_colors)\n",
        "node_sizes = nx.get_node_attributes(H, \"size\").values()\n",
        "sizes = list(node_sizes)\n",
        "\n",
        "#Plotting Graph\n",
        "nx.draw(H, with_labels=True, node_color=colors, node_size=sizes)"
      ],
      "metadata": {
        "id": "UYGAbRtB6kVG"
      },
      "execution_count": null,
      "outputs": []
    },
    {
      "cell_type": "code",
      "source": [
        "#converting to undirected graph\n",
        "G = H.to_undirected()\n",
        "nx.draw(G, with_labels=True, node_color=colors, node_size=sizes)"
      ],
      "metadata": {
        "id": "L8a6ADwO6uS1"
      },
      "execution_count": null,
      "outputs": []
    },
    {
      "cell_type": "code",
      "source": [
        "!pip install -q torch"
      ],
      "metadata": {
        "id": "LjYVA5XB6xSU"
      },
      "execution_count": null,
      "outputs": []
    },
    {
      "cell_type": "code",
      "source": [
        "%%capture\n",
        "import os\n",
        "import torch\n",
        "os.environ['TORCH'] = torch.__version__\n",
        "os.environ['PYTHONWARNINGS'] = \"ignore\"\n",
        "!pip install torch-scatter -f https://data.pyg.org/whl/torch-${TORCH}.html\n",
        "!pip install torch-sparse -f https://data.pyg.org/whl/torch-${TORCH}.html\n",
        "!pip install git+https://github.com/pyg-team/pytorch_geometric.git"
      ],
      "metadata": {
        "id": "4heFyw_261z5"
      },
      "execution_count": null,
      "outputs": []
    },
    {
      "cell_type": "code",
      "source": [
        "from torch_geometric.datasets import Planetoid\n",
        "from torch_geometric.transforms import NormalizeFeatures\n",
        "\n",
        "dataset = Planetoid(root='data/Planetoid', name='Cora', transform=NormalizeFeatures())\n",
        "\n",
        "print(f'Dataset: {dataset}:')\n",
        "print('======================')\n",
        "print(f'Number of graphs: {len(dataset)}')\n",
        "print(f'Number of features: {dataset.num_features}')\n",
        "print(f'Number of classes: {dataset.num_classes}')\n",
        "\n",
        "data = dataset[0]  # Get the first graph object.\n",
        "print(data)"
      ],
      "metadata": {
        "id": "PyFMF1Au639s"
      },
      "execution_count": null,
      "outputs": []
    },
    {
      "cell_type": "code",
      "source": [
        "from torch_geometric.nn import GCNConv\n",
        "import torch.nn.functional as F\n",
        "\n",
        "class GCN(torch.nn.Module):\n",
        "    def __init__(self, hidden_channels):\n",
        "        super().__init__()\n",
        "        torch.manual_seed(1234567)\n",
        "        self.conv1 = GCNConv(dataset.num_features, hidden_channels)\n",
        "        self.conv2 = GCNConv(hidden_channels, dataset.num_classes)\n",
        "\n",
        "    def forward(self, x, edge_index):\n",
        "        x = self.conv1(x, edge_index)\n",
        "        x = x.relu()\n",
        "        x = F.dropout(x, p=0.5, training=self.training)\n",
        "        x = self.conv2(x, edge_index)\n",
        "        return x\n",
        "\n",
        "model = GCN(hidden_channels=16)\n",
        "print(model)\n",
        "\n",
        ">>> GCN(\n",
        "    (conv1): GCNConv(1433, 16)\n",
        "    (conv2): GCNConv(16, 7)\n",
        "  )"
      ],
      "metadata": {
        "id": "7RKdkLW566DR"
      },
      "execution_count": null,
      "outputs": []
    },
    {
      "cell_type": "code",
      "source": [
        "%matplotlib inline\n",
        "import matplotlib.pyplot as plt\n",
        "from sklearn.manifold import TSNE\n",
        "\n",
        "def visualize(h, color):\n",
        "    z = TSNE(n_components=2).fit_transform(h.detach().cpu().numpy())\n",
        "\n",
        "    plt.figure(figsize=(10,10))\n",
        "    plt.xticks([])\n",
        "    plt.yticks([])\n",
        "\n",
        "    plt.scatter(z[:, 0], z[:, 1], s=70, c=color, cmap=\"Set2\")\n",
        "    plt.show()"
      ],
      "metadata": {
        "id": "3ChTqp-d69mR"
      },
      "execution_count": null,
      "outputs": []
    },
    {
      "cell_type": "code",
      "source": [
        "model.eval()\n",
        "\n",
        "out = model(data.x, data.edge_index)\n",
        "visualize(out, color=data.y)"
      ],
      "metadata": {
        "id": "1d3ZZFBj7AvJ"
      },
      "execution_count": null,
      "outputs": []
    },
    {
      "cell_type": "code",
      "source": [
        "model = GCN(hidden_channels=16)\n",
        "optimizer = torch.optim.Adam(model.parameters(), lr=0.01, weight_decay=5e-4)\n",
        "criterion = torch.nn.CrossEntropyLoss()\n",
        "\n",
        "def train():\n",
        "      model.train()\n",
        "      optimizer.zero_grad()\n",
        "      out = model(data.x, data.edge_index)\n",
        "      loss = criterion(out[data.train_mask], data.y[data.train_mask])\n",
        "      loss.backward()\n",
        "      optimizer.step()\n",
        "      return loss\n",
        "\n",
        "def test():\n",
        "      model.eval()\n",
        "      out = model(data.x, data.edge_index)\n",
        "      pred = out.argmax(dim=1)\n",
        "      test_correct = pred[data.test_mask] == data.y[data.test_mask]\n",
        "      test_acc = int(test_correct.sum()) / int(data.test_mask.sum())\n",
        "      return test_acc\n",
        "\n",
        "\n",
        "for epoch in range(1, 101):\n",
        "    loss = train()\n",
        "    print(f'Epoch: {epoch:03d}, Loss: {loss:.4f}')\n",
        "GAT(\n",
        "  (conv1): GATConv(1433, 8, heads=8)\n",
        "  (conv2): GATConv(64, 7, heads=8)\n",
        ")\n",
        "\n",
        ".. .. .. ..\n",
        ".. .. .. ..\n",
        "Epoch: 098, Loss: 0.5989\n",
        "Epoch: 099, Loss: 0.6021\n",
        "Epoch: 100, Loss: 0.5799"
      ],
      "metadata": {
        "id": "j2ubmQ4Q7J2G"
      },
      "execution_count": null,
      "outputs": []
    },
    {
      "cell_type": "code",
      "source": [
        "test_acc = test()\n",
        "print(f'Test Accuracy: {test_acc:.4f}')\n",
        "\n",
        "\n",
        ">>> Test Accuracy: 0.8150"
      ],
      "metadata": {
        "id": "JnPnDlto7Qmw"
      },
      "execution_count": null,
      "outputs": []
    },
    {
      "cell_type": "code",
      "source": [
        "model.eval()\n",
        "out = model(data.x, data.edge_index)\n",
        "visualize(out, color=data.y)"
      ],
      "metadata": {
        "id": "s4JYuxQu7SVS"
      },
      "execution_count": null,
      "outputs": []
    },
    {
      "cell_type": "markdown",
      "source": [
        "Training GATConv Model"
      ],
      "metadata": {
        "id": "I0l45S047Wn2"
      }
    },
    {
      "cell_type": "code",
      "source": [
        "from torch_geometric.nn import GATConv\n",
        "\n",
        "class GAT(torch.nn.Module):\n",
        "    def __init__(self, hidden_channels, heads):\n",
        "        super().__init__()\n",
        "        torch.manual_seed(1234567)\n",
        "        self.conv1 = GATConv(dataset.num_features, hidden_channels,heads)\n",
        "        self.conv2 = GATConv(heads*hidden_channels, dataset.num_classes,heads)\n",
        "\n",
        "    def forward(self, x, edge_index):\n",
        "        x = F.dropout(x, p=0.6, training=self.training)\n",
        "        x = self.conv1(x, edge_index)\n",
        "        x = F.elu(x)\n",
        "        x = F.dropout(x, p=0.6, training=self.training)\n",
        "        x = self.conv2(x, edge_index)\n",
        "        return x\n",
        "\n",
        "model = GAT(hidden_channels=8, heads=8)\n",
        "print(model)\n",
        "\n",
        "optimizer = torch.optim.Adam(model.parameters(), lr=0.005, weight_decay=5e-4)\n",
        "criterion = torch.nn.CrossEntropyLoss()\n",
        "\n",
        "def train():\n",
        "      model.train()\n",
        "      optimizer.zero_grad()\n",
        "      out = model(data.x, data.edge_index)\n",
        "      loss = criterion(out[data.train_mask], data.y[data.train_mask])\n",
        "      loss.backward()\n",
        "      optimizer.step()\n",
        "      return loss\n",
        "\n",
        "def test(mask):\n",
        "      model.eval()\n",
        "      out = model(data.x, data.edge_index)\n",
        "      pred = out.argmax(dim=1)\n",
        "      correct = pred[mask] == data.y[mask]\n",
        "      acc = int(correct.sum()) / int(mask.sum())\n",
        "      return acc\n",
        "\n",
        "val_acc_all = []\n",
        "test_acc_all = []\n",
        "\n",
        "for epoch in range(1, 101):\n",
        "    loss = train()\n",
        "    val_acc = test(data.val_mask)\n",
        "    test_acc = test(data.test_mask)\n",
        "    val_acc_all.append(val_acc)\n",
        "    test_acc_all.append(test_acc)\n",
        "    print(f'Epoch: {epoch:03d}, Loss: {loss:.4f}, Val: {val_acc:.4f}, Test: {test_acc:.4f}')\n",
        "\n",
        ".. .. .. ..\n",
        ".. .. .. ..\n",
        "Epoch: 098, Loss: 1.1283, Val: 0.7960, Test: 0.8030\n",
        "\n",
        "Epoch: 099, Loss: 1.1352, Val: 0.7940, Test: 0.8050\n",
        "\n",
        "Epoch: 100, Loss: 1.1053, Val: 0.7960, Test: 0.8040"
      ],
      "metadata": {
        "id": "mp6YycdE7aZO"
      },
      "execution_count": null,
      "outputs": []
    },
    {
      "cell_type": "code",
      "source": [
        "import numpy as np\n",
        "\n",
        "plt.figure(figsize=(12,8))\n",
        "plt.plot(np.arange(1, len(val_acc_all) + 1), val_acc_all, label='Validation accuracy', c='blue')\n",
        "plt.plot(np.arange(1, len(test_acc_all) + 1), test_acc_all, label='Testing accuracy', c='red')\n",
        "plt.xlabel('Epochs')\n",
        "plt.ylabel('Accurarcy')\n",
        "plt.title('GATConv')\n",
        "plt.legend(loc='lower right', fontsize='x-large')\n",
        "plt.savefig('gat_loss.png')\n",
        "plt.show()"
      ],
      "metadata": {
        "id": "T30gZEaV7dHC"
      },
      "execution_count": null,
      "outputs": []
    },
    {
      "cell_type": "code",
      "source": [
        "model.eval()\n",
        "\n",
        "out = model(data.x, data.edge_index)\n",
        "visualize(out, color=data.y)"
      ],
      "metadata": {
        "id": "YmkfqB2S7gbe"
      },
      "execution_count": null,
      "outputs": []
    }
  ]
}